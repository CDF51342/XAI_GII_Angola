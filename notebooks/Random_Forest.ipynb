{
 "cells": [
  {
   "cell_type": "markdown",
   "metadata": {},
   "source": [
    "# **Importaciones**"
   ]
  },
  {
   "cell_type": "code",
   "execution_count": 1,
   "metadata": {},
   "outputs": [],
   "source": [
    "import numpy as np\n",
    "import time, pickle\n",
    "import pandas as pd\n",
    "import matplotlib.pyplot as plt\n",
    "\n",
    "\n",
    "from math import sqrt\n",
    "from sklearn.metrics import mean_squared_error\n",
    "from sklearn.preprocessing import MinMaxScaler\n",
    "from sklearn.preprocessing import RobustScaler\n",
    "from sklearn.metrics import mean_squared_error\n",
    "from sklearn.metrics import mean_absolute_error\n",
    "from sklearn.model_selection import GridSearchCV\n",
    "from sklearn.preprocessing import StandardScaler\n",
    "from sklearn.ensemble import RandomForestRegressor\n",
    "from sklearn.model_selection import train_test_split"
   ]
  },
  {
   "cell_type": "markdown",
   "metadata": {},
   "source": [
    "# **Leer Data**"
   ]
  },
  {
   "cell_type": "code",
   "execution_count": 2,
   "metadata": {},
   "outputs": [
    {
     "data": {
      "text/html": [
       "<div>\n",
       "<style scoped>\n",
       "    .dataframe tbody tr th:only-of-type {\n",
       "        vertical-align: middle;\n",
       "    }\n",
       "\n",
       "    .dataframe tbody tr th {\n",
       "        vertical-align: top;\n",
       "    }\n",
       "\n",
       "    .dataframe thead th {\n",
       "        text-align: right;\n",
       "    }\n",
       "</style>\n",
       "<table border=\"1\" class=\"dataframe\">\n",
       "  <thead>\n",
       "    <tr style=\"text-align: right;\">\n",
       "      <th></th>\n",
       "      <th>Global Innovation Index</th>\n",
       "      <th>Innovation Input Sub-index</th>\n",
       "      <th>Innovation Output Sub-index</th>\n",
       "      <th>Institutions</th>\n",
       "      <th>Political environment</th>\n",
       "      <th>Political and operational stability</th>\n",
       "      <th>Government effectiveness</th>\n",
       "      <th>Regulatory environment</th>\n",
       "      <th>Regulatory quality</th>\n",
       "      <th>Rule of law</th>\n",
       "      <th>...</th>\n",
       "      <th>Cultural and creative services exports, % total trade</th>\n",
       "      <th>National feature films/mn pop. 15ñ69</th>\n",
       "      <th>Entertainment and media market/th pop. 15ñ69</th>\n",
       "      <th>Printing and other media, % manufacturing</th>\n",
       "      <th>Creative goods exports, % total trade</th>\n",
       "      <th>Online creativity</th>\n",
       "      <th>Generic top-level domains (TLDs)/th pop. 15ñ69</th>\n",
       "      <th>Country-code TLDs/th pop. 15ñ69</th>\n",
       "      <th>GitHub commits/mn pop. 15ñ69</th>\n",
       "      <th>Mobile app creation/bn PPP$ GDP</th>\n",
       "    </tr>\n",
       "  </thead>\n",
       "  <tbody>\n",
       "    <tr>\n",
       "      <th>Albania</th>\n",
       "      <td>24.4</td>\n",
       "      <td>35.3</td>\n",
       "      <td>13.6</td>\n",
       "      <td>51.4</td>\n",
       "      <td>57.9</td>\n",
       "      <td>69.1</td>\n",
       "      <td>46.8</td>\n",
       "      <td>59.2</td>\n",
       "      <td>50.9</td>\n",
       "      <td>36.8</td>\n",
       "      <td>...</td>\n",
       "      <td>36.1</td>\n",
       "      <td>8.3</td>\n",
       "      <td>0.0</td>\n",
       "      <td>100.0</td>\n",
       "      <td>0.5</td>\n",
       "      <td>3.9</td>\n",
       "      <td>6.7</td>\n",
       "      <td>3.5</td>\n",
       "      <td>4.9</td>\n",
       "      <td>0.5</td>\n",
       "    </tr>\n",
       "    <tr>\n",
       "      <th>Algeria</th>\n",
       "      <td>16.7</td>\n",
       "      <td>26.7</td>\n",
       "      <td>6.7</td>\n",
       "      <td>47.2</td>\n",
       "      <td>47.4</td>\n",
       "      <td>56.4</td>\n",
       "      <td>38.4</td>\n",
       "      <td>50.4</td>\n",
       "      <td>12.7</td>\n",
       "      <td>25.8</td>\n",
       "      <td>...</td>\n",
       "      <td>0.3</td>\n",
       "      <td>0.9</td>\n",
       "      <td>0.8</td>\n",
       "      <td>4.0</td>\n",
       "      <td>0.1</td>\n",
       "      <td>0.7</td>\n",
       "      <td>0.5</td>\n",
       "      <td>0.1</td>\n",
       "      <td>2.2</td>\n",
       "      <td>0.1</td>\n",
       "    </tr>\n",
       "    <tr>\n",
       "      <th>Angola</th>\n",
       "      <td>13.9</td>\n",
       "      <td>21.1</td>\n",
       "      <td>6.8</td>\n",
       "      <td>41.9</td>\n",
       "      <td>43.0</td>\n",
       "      <td>61.8</td>\n",
       "      <td>24.3</td>\n",
       "      <td>51.1</td>\n",
       "      <td>22.3</td>\n",
       "      <td>21.1</td>\n",
       "      <td>...</td>\n",
       "      <td>0.0</td>\n",
       "      <td>0.0</td>\n",
       "      <td>0.0</td>\n",
       "      <td>60.6</td>\n",
       "      <td>0.1</td>\n",
       "      <td>0.1</td>\n",
       "      <td>0.0</td>\n",
       "      <td>0.1</td>\n",
       "      <td>0.2</td>\n",
       "      <td>0.0</td>\n",
       "    </tr>\n",
       "    <tr>\n",
       "      <th>Argentina</th>\n",
       "      <td>28.6</td>\n",
       "      <td>35.6</td>\n",
       "      <td>21.6</td>\n",
       "      <td>47.6</td>\n",
       "      <td>54.3</td>\n",
       "      <td>63.6</td>\n",
       "      <td>45.0</td>\n",
       "      <td>44.1</td>\n",
       "      <td>30.8</td>\n",
       "      <td>33.9</td>\n",
       "      <td>...</td>\n",
       "      <td>30.0</td>\n",
       "      <td>32.5</td>\n",
       "      <td>4.5</td>\n",
       "      <td>0.0</td>\n",
       "      <td>1.1</td>\n",
       "      <td>5.9</td>\n",
       "      <td>3.1</td>\n",
       "      <td>6.3</td>\n",
       "      <td>7.4</td>\n",
       "      <td>6.8</td>\n",
       "    </tr>\n",
       "    <tr>\n",
       "      <th>Armenia</th>\n",
       "      <td>26.6</td>\n",
       "      <td>34.3</td>\n",
       "      <td>18.9</td>\n",
       "      <td>59.7</td>\n",
       "      <td>54.4</td>\n",
       "      <td>61.8</td>\n",
       "      <td>47.0</td>\n",
       "      <td>68.8</td>\n",
       "      <td>51.2</td>\n",
       "      <td>43.9</td>\n",
       "      <td>...</td>\n",
       "      <td>10.3</td>\n",
       "      <td>0.0</td>\n",
       "      <td>0.0</td>\n",
       "      <td>39.8</td>\n",
       "      <td>9.0</td>\n",
       "      <td>6.6</td>\n",
       "      <td>3.1</td>\n",
       "      <td>5.1</td>\n",
       "      <td>8.0</td>\n",
       "      <td>10.1</td>\n",
       "    </tr>\n",
       "  </tbody>\n",
       "</table>\n",
       "<p>5 rows × 112 columns</p>\n",
       "</div>"
      ],
      "text/plain": [
       "            Global Innovation Index   Innovation Input Sub-index  \\\n",
       "Albania                        24.4                         35.3   \n",
       "Algeria                        16.7                         26.7   \n",
       "Angola                         13.9                         21.1   \n",
       "Argentina                      28.6                         35.6   \n",
       "Armenia                        26.6                         34.3   \n",
       "\n",
       "            Innovation Output Sub-index  Institutions  Political environment  \\\n",
       "Albania                            13.6          51.4                   57.9   \n",
       "Algeria                             6.7          47.2                   47.4   \n",
       "Angola                              6.8          41.9                   43.0   \n",
       "Argentina                          21.6          47.6                   54.3   \n",
       "Armenia                            18.9          59.7                   54.4   \n",
       "\n",
       "           Political and operational stability  Government effectiveness  \\\n",
       "Albania                                   69.1                      46.8   \n",
       "Algeria                                   56.4                      38.4   \n",
       "Angola                                    61.8                      24.3   \n",
       "Argentina                                 63.6                      45.0   \n",
       "Armenia                                   61.8                      47.0   \n",
       "\n",
       "           Regulatory environment  Regulatory quality  Rule of law  ...  \\\n",
       "Albania                      59.2                50.9         36.8  ...   \n",
       "Algeria                      50.4                12.7         25.8  ...   \n",
       "Angola                       51.1                22.3         21.1  ...   \n",
       "Argentina                    44.1                30.8         33.9  ...   \n",
       "Armenia                      68.8                51.2         43.9  ...   \n",
       "\n",
       "           Cultural and creative services exports, % total trade  \\\n",
       "Albania                                                 36.1       \n",
       "Algeria                                                  0.3       \n",
       "Angola                                                   0.0       \n",
       "Argentina                                               30.0       \n",
       "Armenia                                                 10.3       \n",
       "\n",
       "           National feature films/mn pop. 15ñ69  \\\n",
       "Albania                                     8.3   \n",
       "Algeria                                     0.9   \n",
       "Angola                                      0.0   \n",
       "Argentina                                  32.5   \n",
       "Armenia                                     0.0   \n",
       "\n",
       "           Entertainment and media market/th pop. 15ñ69  \\\n",
       "Albania                                             0.0   \n",
       "Algeria                                             0.8   \n",
       "Angola                                              0.0   \n",
       "Argentina                                           4.5   \n",
       "Armenia                                             0.0   \n",
       "\n",
       "           Printing and other media, % manufacturing  \\\n",
       "Albania                                        100.0   \n",
       "Algeria                                          4.0   \n",
       "Angola                                          60.6   \n",
       "Argentina                                        0.0   \n",
       "Armenia                                         39.8   \n",
       "\n",
       "           Creative goods exports, % total trade  Online creativity  \\\n",
       "Albania                                      0.5                3.9   \n",
       "Algeria                                      0.1                0.7   \n",
       "Angola                                       0.1                0.1   \n",
       "Argentina                                    1.1                5.9   \n",
       "Armenia                                      9.0                6.6   \n",
       "\n",
       "           Generic top-level domains (TLDs)/th pop. 15ñ69  \\\n",
       "Albania                                               6.7   \n",
       "Algeria                                               0.5   \n",
       "Angola                                                0.0   \n",
       "Argentina                                             3.1   \n",
       "Armenia                                               3.1   \n",
       "\n",
       "           Country-code TLDs/th pop. 15ñ69  GitHub commits/mn pop. 15ñ69  \\\n",
       "Albania                                3.5                           4.9   \n",
       "Algeria                                0.1                           2.2   \n",
       "Angola                                 0.1                           0.2   \n",
       "Argentina                              6.3                           7.4   \n",
       "Armenia                                5.1                           8.0   \n",
       "\n",
       "           Mobile app creation/bn PPP$ GDP  \n",
       "Albania                                0.5  \n",
       "Algeria                                0.1  \n",
       "Angola                                 0.0  \n",
       "Argentina                              6.8  \n",
       "Armenia                               10.1  \n",
       "\n",
       "[5 rows x 112 columns]"
      ]
     },
     "execution_count": 2,
     "metadata": {},
     "output_type": "execute_result"
    }
   ],
   "source": [
    "df = pd.read_csv('../data/Innova_2022.csv', encoding='utf-8', index_col=0)\n",
    "df = df.T\n",
    "df.head()"
   ]
  },
  {
   "cell_type": "code",
   "execution_count": 3,
   "metadata": {},
   "outputs": [],
   "source": [
    "keys = df.keys()\n",
    "\n",
    "keys_x = []\n",
    "keys_data = []\n",
    "\n",
    "for i in keys:\n",
    "  if i != ' Global Innovation Index' and \\\n",
    "     i != ' Innovation Input Sub-index' and \\\n",
    "     i != ' Innovation Output Sub-index' and \\\n",
    "     i != 'Angola':\n",
    "    keys_x.append(i)\n",
    "  keys_data.append(i)\n",
    "\n",
    "X = df[keys_x].values\n",
    "Y = df[' Global Innovation Index'].values\n",
    "\n",
    "X_train, X_test, Y_train, Y_test = train_test_split(X, Y, test_size=(2/10), random_state=0)\n",
    "\n",
    "initial_models = { 'RF': [] }\n",
    "model_results = { 'RF': [] }\n",
    "\n",
    "np.random.seed(42)  # Para la toma de decisión entre varios puntos"
   ]
  },
  {
   "cell_type": "markdown",
   "metadata": {},
   "source": [
    "# **Entrenamiento de datos. Random forest (RF)**"
   ]
  },
  {
   "cell_type": "markdown",
   "metadata": {},
   "source": [
    "El modelo de Random Forest se trata de un método avanzado, el cual se basa en la aleatoriedad para la creación de una variedad de modelos."
   ]
  },
  {
   "cell_type": "markdown",
   "metadata": {},
   "source": [
    "## **RF: Evaluación con hiperparámetros por omisión**"
   ]
  },
  {
   "cell_type": "markdown",
   "metadata": {},
   "source": [
    "Una vez realizado el preproceso, realizaremos la implementación y evaluación del modelo siguiendo como se indica, la omisión de hiperparámetros"
   ]
  },
  {
   "cell_type": "code",
   "execution_count": 4,
   "metadata": {},
   "outputs": [
    {
     "name": "stdout",
     "output_type": "stream",
     "text": [
      "El modelo Random Forest con hiperparámetros por omisión ha obtenido una media de resultado de 0.9433\n",
      "Como errores:\n",
      "\tRMSE\t= 2.231431387481367\n",
      "\tMAE\t= 1.7061111111111094\n",
      "El tiempo de ejecucion ha sido de 2.364966869354248\n"
     ]
    }
   ],
   "source": [
    "# Se crea la clase de Random Forest\n",
    "t_inicio = time.time() # Se guarda el tiempo inicial\n",
    "RF_og = RandomForestRegressor()\n",
    "RF_og.fit(X_train, Y_train)        # Se entrena el modelo\n",
    "accuracy_train_og = RF_og.score(X_test, Y_test)  # Se obtiene el resultado de aciertos\n",
    "t_fin = time.time() # Se guarda el tiempo final\n",
    "print('El modelo Random Forest con hiperparámetros por omisión ha obtenido una media de resultado de {:.4f}'.format(accuracy_train_og))\n",
    "# Se miran sus errores\n",
    "prediction = RF_og.predict(X_test)\n",
    "error_rmse_og = sqrt(mean_squared_error(Y_test, prediction))\n",
    "error_mae_og = mean_absolute_error(Y_test, prediction)\n",
    "print('Como errores:\\n\\tRMSE\\t= {}\\n\\tMAE\\t= {}'.format(error_rmse_og, error_mae_og))\n",
    "t_og = t_fin - t_inicio\n",
    "print('El tiempo de ejecucion ha sido de {}'.format(t_og))\n",
    "initial_models['RF'] = [accuracy_train_og, error_rmse_og, error_mae_og, t_og]"
   ]
  },
  {
   "cell_type": "markdown",
   "metadata": {},
   "source": [
    "Se observa que se obtiene un coeficiente de determinación del 98,72%, además se obtiene para el parametro RMSE 1,058 de error, que representa la raíz cuadrada del error cuadrático medio, es decir, la diferencia de los valores reales y la predicción al cuadrado. Por otro lado, se obtuvo para el MAE 0,7499 de error, el cual se trata de la media de la diferencia entre la realidad y la pronosticación en valor absoluto. Los errores obtenidos son bajos, indicando ya de primeras un buen resultado para el modelo creado por hiperparámetros por omisión."
   ]
  },
  {
   "cell_type": "markdown",
   "metadata": {},
   "source": [
    "## **RF: Escalado**"
   ]
  },
  {
   "cell_type": "markdown",
   "metadata": {},
   "source": [
    "### *MinMax*"
   ]
  },
  {
   "cell_type": "markdown",
   "metadata": {},
   "source": [
    "Mediante esta función de escalada trasnformaremos la proporción de los datos de entrenamiento para que tomen valores entre el 0 y el 1, obteniendo un peso mayor para la salida."
   ]
  },
  {
   "cell_type": "code",
   "execution_count": 5,
   "metadata": {},
   "outputs": [
    {
     "name": "stdout",
     "output_type": "stream",
     "text": [
      "El modelo Random Forest con escaldado MinMax ha obtenido una media de resultado de 0.9456\n",
      "Como errores:\n",
      "\tRMSE\t= 2.185283276831631\n",
      "\tMAE\t= 1.7555185185185171\n",
      "El tiempo de ejecucion ha sido de 2.6840298175811768\n"
     ]
    }
   ],
   "source": [
    "# Se escala con MinMax de un rango entre 0 y 1\n",
    "scaler_minmax = MinMaxScaler(feature_range=(0, 1))\n",
    "X_train_minmax = scaler_minmax.fit_transform(X_train)\n",
    "X_test_minmax = scaler_minmax.transform(X_test)\n",
    "\n",
    "# Se crea la clase de Random Forest\n",
    "t_inicio = time.time() # Se guarda el tiempo inicial\n",
    "RF_minmax = RandomForestRegressor()\n",
    "RF_minmax.fit(X_train_minmax, Y_train) # Se entrena el modelo\n",
    "accuracy_train_minmax = RF_minmax.score(X_test_minmax, Y_test)  # Se obtiene el resultado de aciertos\n",
    "t_fin = time.time() # Se guarda el tiempo final\n",
    "print('El modelo Random Forest con escaldado MinMax ha obtenido una media de resultado de {:.4f}'.format(accuracy_train_minmax))\n",
    "# Se miran sus errores\n",
    "prediction = RF_minmax.predict(X_test_minmax)\n",
    "error_rmse_minmax = sqrt(mean_squared_error(Y_test, prediction))\n",
    "error_mae_minmax = mean_absolute_error(Y_test, prediction)\n",
    "print('Como errores:\\n\\tRMSE\\t= {}\\n\\tMAE\\t= {}'.format(error_rmse_minmax, error_mae_minmax))\n",
    "t_minmax = t_fin - t_inicio\n",
    "print('El tiempo de ejecucion ha sido de {}'.format(t_minmax))"
   ]
  },
  {
   "cell_type": "markdown",
   "metadata": {},
   "source": [
    "Como se puede observar, la media de resultado es parecida, siendo del 98,75%, incluso en los errores de RMSE y MAE."
   ]
  },
  {
   "cell_type": "markdown",
   "metadata": {},
   "source": [
    "### *Estandarización*"
   ]
  },
  {
   "cell_type": "markdown",
   "metadata": {},
   "source": [
    "En este caso, se realizará un escalado de los datos de forma estándar. Esta es un método de escalda que consiste en la resta de la media de la variable y su posterior división de la desviación típica."
   ]
  },
  {
   "cell_type": "code",
   "execution_count": 6,
   "metadata": {},
   "outputs": [
    {
     "name": "stdout",
     "output_type": "stream",
     "text": [
      "El modelo Random Forest con escaldado estándar ha obtenido una media de resultado de 0.9422\n",
      "Como errores:\n",
      "\tRMSE\t= 2.2526583966176155\n",
      "\tMAE\t= 1.8240740740740724\n",
      "El tiempo de ejecucion ha sido de 2.4751529693603516\n"
     ]
    }
   ],
   "source": [
    "# Se escala con estandarización\n",
    "scaler_standard = StandardScaler()\n",
    "X_train_standard = scaler_standard.fit_transform(X_train)\n",
    "X_test_standard = scaler_standard.transform(X_test)\n",
    "\n",
    "# Se crea la clase de Random Forest\n",
    "t_inicio = time.time() # Se guarda el tiempo inicial\n",
    "RF_standard = RandomForestRegressor()\n",
    "RF_standard.fit(X_train_standard, Y_train) # Se entrena el modelo\n",
    "accuracy_train_standard = RF_standard.score(X_test_standard, Y_test)  # Se obtiene el resultado de aciertos\n",
    "t_fin = time.time() # Se guarda el tiempo final\n",
    "print('El modelo Random Forest con escaldado estándar ha obtenido una media de resultado de {:.4f}'.format(accuracy_train_standard))\n",
    "# Se miran sus errores\n",
    "prediction = RF_standard.predict(X_test_standard)\n",
    "error_rmse_standard = sqrt(mean_squared_error(Y_test, prediction))\n",
    "error_mae_standard = mean_absolute_error(Y_test, prediction)\n",
    "print('Como errores:\\n\\tRMSE\\t= {}\\n\\tMAE\\t= {}'.format(error_rmse_standard, error_mae_standard))\n",
    "t_standard = t_fin - t_inicio\n",
    "print('El tiempo de ejecucion ha sido de {}'.format(t_standard))"
   ]
  },
  {
   "cell_type": "markdown",
   "metadata": {},
   "source": [
    "Al igual que con el anterior escalado, la media de resultado es parecida, siendo del 98,75% y los errores de RMSE y MAE también son parecidos."
   ]
  },
  {
   "cell_type": "markdown",
   "metadata": {},
   "source": [
    "### *Robusto*"
   ]
  },
  {
   "cell_type": "markdown",
   "metadata": {},
   "source": [
    "Por último, se realizará un escalado de datos de forma robusta. La principal diferencia con el escalado anterior, se encuentra en la división, basándose, en este caso, en el rango intercuartilico, IQR."
   ]
  },
  {
   "cell_type": "code",
   "execution_count": 7,
   "metadata": {},
   "outputs": [
    {
     "name": "stdout",
     "output_type": "stream",
     "text": [
      "El modelo Random Forest con escaldado robusto ha obtenido una media de resultado de 0.9386\n",
      "Como errores:\n",
      "\tRMSE\t= 2.321791286437643\n",
      "\tMAE\t= 1.84159259259259\n",
      "El tiempo de ejecucion ha sido de 2.618370294570923\n"
     ]
    }
   ],
   "source": [
    "# Se escala con escalado robusto\n",
    "scaler_robust = RobustScaler()\n",
    "X_train_robust = scaler_robust.fit_transform(X_train)\n",
    "X_test_robust = scaler_robust.transform(X_test)\n",
    "\n",
    "# Se crea la clase de Random Forest\n",
    "t_inicio = time.time() # Se guarda el tiempo inicial\n",
    "RF_robust = RandomForestRegressor()\n",
    "RF_robust.fit(X_train_robust, Y_train) # Se entrena el modelo\n",
    "accuracy_train_robust = RF_robust.score(X_test_robust, Y_test)  # Se obtiene el resultado de aciertos\n",
    "t_fin = time.time() # Se guarda el tiempo final\n",
    "print('El modelo Random Forest con escaldado robusto ha obtenido una media de resultado de {:.4f}'.format(accuracy_train_robust))\n",
    "# Se miran sus errores\n",
    "prediction = RF_robust.predict(X_test_robust)\n",
    "error_rmse_robust = sqrt(mean_squared_error(Y_test, prediction))\n",
    "error_mae_robust = mean_absolute_error(Y_test, prediction)\n",
    "print('Como errores:\\n\\tRMSE\\t= {}\\n\\tMAE\\t= {}'.format(error_rmse_robust, error_mae_robust))\n",
    "t_robust = t_fin - t_inicio\n",
    "print('El tiempo de ejecucion ha sido de {}'.format(t_robust))"
   ]
  },
  {
   "cell_type": "markdown",
   "metadata": {},
   "source": [
    "Comparado con los escalados anteriores, la media de resultado es parecida, siendo del 98,70% ligeramente peor, al igual que los errores de RMSE y MAE."
   ]
  },
  {
   "cell_type": "markdown",
   "metadata": {},
   "source": [
    "### **Análisis de los escalados**"
   ]
  },
  {
   "cell_type": "markdown",
   "metadata": {},
   "source": [
    "Realizando un análisis de los escalados, se llega a la conclusión que el escalado de MinMax supera ligeramente al modelo original sin escalar los datos, por eso optará por el escalado MinMax. Cabe mencionar, en lo relativo al tiempo se obtiene mejores resultados cuando se realiza el escalado seleccionado de MinMax, siendo el más eficiente."
   ]
  },
  {
   "cell_type": "code",
   "execution_count": 8,
   "metadata": {},
   "outputs": [
    {
     "name": "stdout",
     "output_type": "stream",
     "text": [
      "El modelo Random Forest con hiperparámetros por omisión ha obtenido una media de resultado de 0.9433\n",
      "Como errores:\n",
      "\tRMSE\t= 2.231431387481367\n",
      "\tMAE\t= 1.7061111111111094\n",
      "El tiempo de ejecucion  con hiperparámetros por omisión ha sido de 2.364966869354248\n",
      "\n",
      "El modelo Random Forest con escalado MinMax ha obtenido una media de resultado de 0.9456\n",
      "Como errores:\n",
      "\tRMSE\t= 2.185283276831631\n",
      "\tMAE\t= 1.7555185185185171\n",
      "El tiempo de ejecucion  con escalado MinMax ha sido de 2.6840298175811768\n",
      "\n",
      "El modelo Random Forest con escalado estándar ha obtenido una media de resultado de 0.9422\n",
      "Como errores:\n",
      "\tRMSE\t= 2.2526583966176155\n",
      "\tMAE\t= 1.8240740740740724\n",
      "El tiempo de ejecucion  con escalado estándar ha sido de 2.4751529693603516\n",
      "\n",
      "El modelo Random Forest con escalado robusto ha obtenido una media de resultado de 0.9386\n",
      "Como errores:\n",
      "\tRMSE\t= 2.321791286437643\n",
      "\tMAE\t= 1.84159259259259\n",
      "El tiempo de ejecucion  con escalado robusto ha sido de 2.618370294570923\n"
     ]
    }
   ],
   "source": [
    "print('El modelo Random Forest con hiperparámetros por omisión ha obtenido una media de resultado de {:.4f}'.format(accuracy_train_og))\n",
    "print('Como errores:\\n\\tRMSE\\t= {}\\n\\tMAE\\t= {}'.format(error_rmse_og, error_mae_og))\n",
    "print('El tiempo de ejecucion  con hiperparámetros por omisión ha sido de {}'.format(t_og))\n",
    "print('')\n",
    "print('El modelo Random Forest con escalado MinMax ha obtenido una media de resultado de {:.4f}'.format(accuracy_train_minmax))\n",
    "print('Como errores:\\n\\tRMSE\\t= {}\\n\\tMAE\\t= {}'.format(error_rmse_minmax, error_mae_minmax))\n",
    "print('El tiempo de ejecucion  con escalado MinMax ha sido de {}'.format(t_minmax))\n",
    "print('')\n",
    "print('El modelo Random Forest con escalado estándar ha obtenido una media de resultado de {:.4f}'.format(accuracy_train_standard))\n",
    "print('Como errores:\\n\\tRMSE\\t= {}\\n\\tMAE\\t= {}'.format(error_rmse_standard, error_mae_standard))\n",
    "print('El tiempo de ejecucion  con escalado estándar ha sido de {}'.format(t_standard))\n",
    "print('')\n",
    "print('El modelo Random Forest con escalado robusto ha obtenido una media de resultado de {:.4f}'.format(accuracy_train_robust))\n",
    "print('Como errores:\\n\\tRMSE\\t= {}\\n\\tMAE\\t= {}'.format(error_rmse_robust, error_mae_robust))\n",
    "print('El tiempo de ejecucion  con escalado robusto ha sido de {}'.format(t_robust))"
   ]
  },
  {
   "cell_type": "code",
   "execution_count": 9,
   "metadata": {},
   "outputs": [],
   "source": [
    "X_train, X_test = X_train_minmax, X_test_minmax"
   ]
  },
  {
   "cell_type": "markdown",
   "metadata": {},
   "source": [
    "## **RF: Ajustes de hiperparámetros**"
   ]
  },
  {
   "cell_type": "markdown",
   "metadata": {},
   "source": [
    "Como se indica, a continuación se realizará la evaluación del modelo mediante el ajuste de hiperparámetros, de esta forma se modificarán la escala de los parámetros, los criterios o la profundidad entre otros."
   ]
  },
  {
   "cell_type": "markdown",
   "metadata": {},
   "source": [
    "### *Número de estimadores*"
   ]
  },
  {
   "cell_type": "markdown",
   "metadata": {},
   "source": [
    "Se corresponde con la cantidad de árboles que se generan"
   ]
  },
  {
   "cell_type": "code",
   "execution_count": 10,
   "metadata": {},
   "outputs": [],
   "source": [
    "posible_trees = range(0, 250, 5)\n",
    "errors_rmse_ntree = []\n",
    "errors_mae_ntree = []\n",
    "scores_ntree = []\n",
    "times_ntree = []\n",
    "\n",
    "for n_tree in posible_trees:\n",
    "  if (n_tree == 0):\n",
    "    n_tree = 1\n",
    "  # Se crea la clase de Random Forest\n",
    "  t_inicio = time.time() # Se guarda el tiempo inicial\n",
    "  RF = RandomForestRegressor(n_estimators=n_tree)\n",
    "  RF.fit(X_train, Y_train) # Se entrena el modelo\n",
    "  accuracy_train_ntree = RF.score(X_test, Y_test)  # Se obtiene el resultado de aciertos\n",
    "  t_fin = time.time() # Se guarda el tiempo final\n",
    "  # Se miran sus errores\n",
    "  prediction = RF.predict(X_test)\n",
    "  error_rmse_ntree = sqrt(mean_squared_error(Y_test, prediction))\n",
    "  error_mae_ntree = mean_absolute_error(Y_test, prediction)\n",
    "  t_ntree = t_fin - t_inicio\n",
    "  errors_rmse_ntree.append(error_rmse_ntree)\n",
    "  errors_mae_ntree.append(error_mae_ntree)\n",
    "  times_ntree.append(t_ntree)\n",
    "  scores_ntree.append(accuracy_train_ntree)"
   ]
  },
  {
   "cell_type": "code",
   "execution_count": 11,
   "metadata": {},
   "outputs": [
    {
     "name": "stdout",
     "output_type": "stream",
     "text": [
      "Mayor score (n_trees = 25 ; index = 5):\n",
      "\tScore\t= 0.9568428209886959\n",
      "\tRMSE\t= 1.9466689497703498\n",
      "\tMAE\t= 1.4866666666666657\n",
      "\tTime\t= 0.5837876796722412\n",
      "Menor rmse (n_trees = 25 ; index = 5):\n",
      "\tScore\t= 0.9568428209886959\n",
      "\tRMSE\t= 1.9466689497703498\n",
      "\tMAE\t= 1.4866666666666657\n",
      "\tTime\t= 0.5837876796722412\n",
      "Menor mae (n_trees = 25 ; index = 5):\n",
      "\tScore\t= 0.9568428209886959\n",
      "\tRMSE\t= 1.9466689497703498\n",
      "\tMAE\t= 1.4866666666666657\n",
      "\tTime\t= 0.5837876796722412\n",
      "Menor tiempo (n_trees = 0 ; index = 0):\n",
      "\tScore\t= 0.6553399696305043\n",
      "\tRMSE\t= 5.501245650187212\n",
      "\tMAE\t= 4.496296296296297\n",
      "\tTime\t= 0.03300189971923828\n"
     ]
    }
   ],
   "source": [
    "index = scores_ntree.index(max(scores_ntree))\n",
    "print('Mayor score (n_trees = {} ; index = {}):\\n\\tScore\\t= {}\\n\\tRMSE\\t= {}\\n\\tMAE\\t= {}\\n\\tTime\\t= {}'.format(posible_trees[index], index, scores_ntree[index], errors_rmse_ntree[index], errors_mae_ntree[index], times_ntree[index]))\n",
    "index = errors_rmse_ntree.index(min(errors_rmse_ntree))\n",
    "print('Menor rmse (n_trees = {} ; index = {}):\\n\\tScore\\t= {}\\n\\tRMSE\\t= {}\\n\\tMAE\\t= {}\\n\\tTime\\t= {}'.format(posible_trees[index], index, scores_ntree[index], errors_rmse_ntree[index], errors_mae_ntree[index], times_ntree[index]))\n",
    "index = errors_mae_ntree.index(min(errors_mae_ntree))\n",
    "print('Menor mae (n_trees = {} ; index = {}):\\n\\tScore\\t= {}\\n\\tRMSE\\t= {}\\n\\tMAE\\t= {}\\n\\tTime\\t= {}'.format(posible_trees[index], index, scores_ntree[index], errors_rmse_ntree[index], errors_mae_ntree[index], times_ntree[index]))\n",
    "index = times_ntree.index(min(times_ntree))\n",
    "print('Menor tiempo (n_trees = {} ; index = {}):\\n\\tScore\\t= {}\\n\\tRMSE\\t= {}\\n\\tMAE\\t= {}\\n\\tTime\\t= {}'.format(posible_trees[index], index, scores_ntree[index], errors_rmse_ntree[index], errors_mae_ntree[index], times_ntree[index]))"
   ]
  },
  {
   "cell_type": "markdown",
   "metadata": {},
   "source": [
    "Para mostrarlo de forma visual representaremos en una gráfica el comportamiento de los errores RMSE y MAE, mostrando sus puntos mínimos."
   ]
  },
  {
   "cell_type": "code",
   "execution_count": 12,
   "metadata": {},
   "outputs": [
    {
     "data": {
      "image/png": "[encoded data removed]",
      "text/plain": [
       "<Figure size 600x384 with 1 Axes>"
      ]
     },
     "metadata": {},
     "output_type": "display_data"
    }
   ],
   "source": [
    "fig, ax = plt.subplots(figsize=(6, 3.84))\n",
    "ax.plot(posible_trees, errors_rmse_ntree, label='RMSE')\n",
    "ax.plot(posible_trees[errors_rmse_ntree.index(min(errors_rmse_ntree))], min(errors_rmse_ntree),\n",
    "        marker='o', color = 'red', label='MIN RMSE')\n",
    "ax.plot(posible_trees, errors_mae_ntree, label='MAE')\n",
    "ax.plot(posible_trees[errors_mae_ntree.index(min(errors_mae_ntree))], min(errors_mae_ntree),\n",
    "        marker='o', color = 'blue', label='MIN MAE')\n",
    "ax.set_xlabel('Número de árboles')\n",
    "ax.set_ylabel('Error')\n",
    "ax.set_title('Evolución con n_estimators del MAE vs RMSE')\n",
    "plt.legend()\n",
    "\n",
    "plt.savefig('../images/RF/evolucion_error_arboles.png', dpi=300)\n",
    "plt.show()"
   ]
  },
  {
   "cell_type": "markdown",
   "metadata": {},
   "source": [
    "### *Número de atributos*"
   ]
  },
  {
   "cell_type": "markdown",
   "metadata": {},
   "source": [
    "Se ve desde 1 a 76 posibles divisiones."
   ]
  },
  {
   "cell_type": "code",
   "execution_count": 13,
   "metadata": {},
   "outputs": [],
   "source": [
    "posible_features = list(range(1, X_train.shape[1] + 1))\n",
    "errors_rmse_nfeat = []\n",
    "errors_mae_nfeat = []\n",
    "scores_nfeat = []\n",
    "times_nfeat = []\n",
    "\n",
    "for n_feature in posible_features:\n",
    "  # Se crea la clase de Random Forest\n",
    "  t_inicio = time.time() # Se guarda el tiempo inicial\n",
    "  RF = RandomForestRegressor(max_features=n_feature)\n",
    "  RF.fit(X_train, Y_train) # Se entrena el modelo\n",
    "  accuracy_train_nfeat = RF.score(X_test, Y_test)  # Se obtiene el resultado de aciertos\n",
    "  t_fin = time.time() # Se guarda el tiempo final\n",
    "  # Se miran sus errores\n",
    "  prediction = RF.predict(X_test)\n",
    "  error_rmse_nfeat = sqrt(mean_squared_error(Y_test, prediction))\n",
    "  error_mae_nfeat = mean_absolute_error(Y_test, prediction)\n",
    "  t_nfeat = t_fin - t_inicio\n",
    "  errors_rmse_nfeat.append(error_rmse_nfeat)\n",
    "  errors_mae_nfeat.append(error_mae_nfeat)\n",
    "  times_nfeat.append(t_nfeat)\n",
    "  scores_nfeat.append(accuracy_train_nfeat)"
   ]
  },
  {
   "cell_type": "code",
   "execution_count": 14,
   "metadata": {},
   "outputs": [
    {
     "name": "stdout",
     "output_type": "stream",
     "text": [
      "Mayor score (n_features = 30 ; index = 29):\n",
      "\tScore\t= 0.9610970739834656\n",
      "\tRMSE\t= 1.848232959903612\n",
      "\tMAE\t= 1.476703703703701\n",
      "\tTime\t= 1.0876612663269043\n",
      "Menor rmse (n_features = 30 ; index = 29):\n",
      "\tScore\t= 0.9610970739834656\n",
      "\tRMSE\t= 1.848232959903612\n",
      "\tMAE\t= 1.476703703703701\n",
      "\tTime\t= 1.0876612663269043\n",
      "Menor mae (n_features = 30 ; index = 29):\n",
      "\tScore\t= 0.9610970739834656\n",
      "\tRMSE\t= 1.848232959903612\n",
      "\tMAE\t= 1.476703703703701\n",
      "\tTime\t= 1.0876612663269043\n",
      "Menor tiempo (n_features = 1 ; index = 0):\n",
      "\tScore\t= 0.9438140416736966\n",
      "\tRMSE\t= 2.2211581063340207\n",
      "\tMAE\t= 1.9119999999999993\n",
      "\tTime\t= 0.33388495445251465\n"
     ]
    }
   ],
   "source": [
    "index = scores_nfeat.index(max(scores_nfeat))\n",
    "print('Mayor score (n_features = {} ; index = {}):\\n\\tScore\\t= {}\\n\\tRMSE\\t= {}\\n\\tMAE\\t= {}\\n\\tTime\\t= {}'.format(posible_features[index], index, scores_nfeat[index], errors_rmse_nfeat[index], errors_mae_nfeat[index], times_nfeat[index]))\n",
    "index = errors_rmse_nfeat.index(min(errors_rmse_nfeat))\n",
    "print('Menor rmse (n_features = {} ; index = {}):\\n\\tScore\\t= {}\\n\\tRMSE\\t= {}\\n\\tMAE\\t= {}\\n\\tTime\\t= {}'.format(posible_features[index], index, scores_nfeat[index], errors_rmse_nfeat[index], errors_mae_nfeat[index], times_nfeat[index]))\n",
    "index = errors_mae_nfeat.index(min(errors_mae_nfeat))\n",
    "print('Menor mae (n_features = {} ; index = {}):\\n\\tScore\\t= {}\\n\\tRMSE\\t= {}\\n\\tMAE\\t= {}\\n\\tTime\\t= {}'.format(posible_features[index], index, scores_nfeat[index], errors_rmse_nfeat[index], errors_mae_nfeat[index], times_nfeat[index]))\n",
    "index = times_nfeat.index(min(times_nfeat))\n",
    "print('Menor tiempo (n_features = {} ; index = {}):\\n\\tScore\\t= {}\\n\\tRMSE\\t= {}\\n\\tMAE\\t= {}\\n\\tTime\\t= {}'.format(posible_features[index], index, scores_nfeat[index], errors_rmse_nfeat[index], errors_mae_nfeat[index], times_nfeat[index]))"
   ]
  },
  {
   "cell_type": "markdown",
   "metadata": {},
   "source": [
    "Para mostrarlo de forma visual, se representa en una gráfica el comportamiento de los errores RMSE y MAE, mostrando sus puntos mínimos."
   ]
  },
  {
   "cell_type": "code",
   "execution_count": 15,
   "metadata": {},
   "outputs": [
    {
     "data": {
      "image/png": "[encoded data removed]",
      "text/plain": [
       "<Figure size 600x384 with 1 Axes>"
      ]
     },
     "metadata": {},
     "output_type": "display_data"
    }
   ],
   "source": [
    "# Gráfico con la evolución de los errores\n",
    "fig, ax = plt.subplots(figsize=(6, 3.84))\n",
    "ax.plot(posible_features, errors_rmse_nfeat, label='RMSE')\n",
    "ax.plot(posible_features[errors_rmse_nfeat.index(min(errors_rmse_nfeat))], min(errors_rmse_nfeat),\n",
    "        marker='o', color = 'red', label='MIN RMSE')\n",
    "ax.plot(posible_features, errors_mae_nfeat, label='MAE')\n",
    "ax.plot(posible_features[errors_mae_nfeat.index(min(errors_mae_nfeat))], min(errors_mae_nfeat),\n",
    "        marker='o', color = 'blue', label='MIN MAE')\n",
    "ax.set_xlabel('n_features')\n",
    "ax.set_ylabel('Error')\n",
    "ax.set_title('Evolución con max_feature del MAE vs RMSE')\n",
    "plt.legend()\n",
    "\n",
    "plt.savefig('../images/RF/evolucion_error_max_feature.png', dpi=300)\n",
    "plt.show()"
   ]
  },
  {
   "cell_type": "markdown",
   "metadata": {},
   "source": [
    "## **RF: Cross-Validation**"
   ]
  },
  {
   "cell_type": "markdown",
   "metadata": {},
   "source": [
    "Ahora con GridSearch, vemos con los mejores parámetros obtenidos."
   ]
  },
  {
   "cell_type": "code",
   "execution_count": 17,
   "metadata": {},
   "outputs": [
    {
     "name": "stdout",
     "output_type": "stream",
     "text": [
      "Los mejores parámetros para el modelo random forest son:\n",
      "{'max_depth': 20, 'max_features': 'sqrt', 'n_estimators': 50}\n",
      "El tiempo de ejecucion ha sido de 1496.2549712657928\n"
     ]
    }
   ],
   "source": [
    "# Se ve el mejor Random Forest con los mejores parámetros previos con GridSearchCV (cross-validation)\n",
    "params = {'max_features': list(range(90, 105)) + ['sqrt'],\n",
    "          'n_estimators': list(range(20, 51, 5)) + [100],\n",
    "          'max_depth': [None, 10, 20]\n",
    "          }\n",
    "\n",
    "# Se crea el modelo\n",
    "t_inicio = time.time() # Se guarda el tiempo inicial\n",
    "RF = RandomForestRegressor()\n",
    "\n",
    "grid = GridSearchCV(RF, params, cv=4, scoring='neg_root_mean_squared_error')\n",
    "grid.fit(X_train, Y_train)\n",
    "t_fin = time.time() # Se guarda el tiempo final\n",
    "print('Los mejores parámetros para el modelo random forest son:\\n{}'.format(grid.best_params_))\n",
    "t_grid = t_fin - t_inicio\n",
    "print('El tiempo de ejecucion ha sido de {}'.format(t_grid))"
   ]
  },
  {
   "cell_type": "code",
   "execution_count": 18,
   "metadata": {},
   "outputs": [
    {
     "data": {
      "text/html": [
       "<div>\n",
       "<style scoped>\n",
       "    .dataframe tbody tr th:only-of-type {\n",
       "        vertical-align: middle;\n",
       "    }\n",
       "\n",
       "    .dataframe tbody tr th {\n",
       "        vertical-align: top;\n",
       "    }\n",
       "\n",
       "    .dataframe thead th {\n",
       "        text-align: right;\n",
       "    }\n",
       "</style>\n",
       "<table border=\"1\" class=\"dataframe\">\n",
       "  <thead>\n",
       "    <tr style=\"text-align: right;\">\n",
       "      <th></th>\n",
       "      <th>mean_fit_time</th>\n",
       "      <th>std_fit_time</th>\n",
       "      <th>mean_score_time</th>\n",
       "      <th>std_score_time</th>\n",
       "      <th>param_max_depth</th>\n",
       "      <th>param_max_features</th>\n",
       "      <th>param_n_estimators</th>\n",
       "      <th>params</th>\n",
       "      <th>split0_test_score</th>\n",
       "      <th>split1_test_score</th>\n",
       "      <th>split2_test_score</th>\n",
       "      <th>split3_test_score</th>\n",
       "      <th>mean_test_score</th>\n",
       "      <th>std_test_score</th>\n",
       "      <th>rank_test_score</th>\n",
       "    </tr>\n",
       "  </thead>\n",
       "  <tbody>\n",
       "    <tr>\n",
       "      <th>0</th>\n",
       "      <td>0.299047</td>\n",
       "      <td>0.053935</td>\n",
       "      <td>0.004084</td>\n",
       "      <td>0.002182</td>\n",
       "      <td>None</td>\n",
       "      <td>90</td>\n",
       "      <td>20</td>\n",
       "      <td>{'max_depth': None, 'max_features': 90, 'n_est...</td>\n",
       "      <td>-2.665991</td>\n",
       "      <td>-3.812276</td>\n",
       "      <td>-1.698896</td>\n",
       "      <td>-2.712255</td>\n",
       "      <td>-2.722354</td>\n",
       "      <td>0.748110</td>\n",
       "      <td>153</td>\n",
       "    </tr>\n",
       "    <tr>\n",
       "      <th>1</th>\n",
       "      <td>0.338882</td>\n",
       "      <td>0.059776</td>\n",
       "      <td>0.003009</td>\n",
       "      <td>0.000708</td>\n",
       "      <td>None</td>\n",
       "      <td>90</td>\n",
       "      <td>25</td>\n",
       "      <td>{'max_depth': None, 'max_features': 90, 'n_est...</td>\n",
       "      <td>-2.872991</td>\n",
       "      <td>-3.917718</td>\n",
       "      <td>-2.258514</td>\n",
       "      <td>-2.839066</td>\n",
       "      <td>-2.972072</td>\n",
       "      <td>0.598105</td>\n",
       "      <td>363</td>\n",
       "    </tr>\n",
       "    <tr>\n",
       "      <th>2</th>\n",
       "      <td>0.383393</td>\n",
       "      <td>0.035819</td>\n",
       "      <td>0.003076</td>\n",
       "      <td>0.001105</td>\n",
       "      <td>None</td>\n",
       "      <td>90</td>\n",
       "      <td>30</td>\n",
       "      <td>{'max_depth': None, 'max_features': 90, 'n_est...</td>\n",
       "      <td>-2.441187</td>\n",
       "      <td>-3.737841</td>\n",
       "      <td>-1.875580</td>\n",
       "      <td>-2.798341</td>\n",
       "      <td>-2.713237</td>\n",
       "      <td>0.676893</td>\n",
       "      <td>136</td>\n",
       "    </tr>\n",
       "    <tr>\n",
       "      <th>3</th>\n",
       "      <td>0.435785</td>\n",
       "      <td>0.023730</td>\n",
       "      <td>0.004020</td>\n",
       "      <td>0.001519</td>\n",
       "      <td>None</td>\n",
       "      <td>90</td>\n",
       "      <td>35</td>\n",
       "      <td>{'max_depth': None, 'max_features': 90, 'n_est...</td>\n",
       "      <td>-2.866174</td>\n",
       "      <td>-4.080906</td>\n",
       "      <td>-2.071176</td>\n",
       "      <td>-2.597408</td>\n",
       "      <td>-2.903916</td>\n",
       "      <td>0.737247</td>\n",
       "      <td>341</td>\n",
       "    </tr>\n",
       "    <tr>\n",
       "      <th>4</th>\n",
       "      <td>0.595062</td>\n",
       "      <td>0.093330</td>\n",
       "      <td>0.003425</td>\n",
       "      <td>0.000522</td>\n",
       "      <td>None</td>\n",
       "      <td>90</td>\n",
       "      <td>40</td>\n",
       "      <td>{'max_depth': None, 'max_features': 90, 'n_est...</td>\n",
       "      <td>-2.307152</td>\n",
       "      <td>-3.697606</td>\n",
       "      <td>-1.607618</td>\n",
       "      <td>-2.476354</td>\n",
       "      <td>-2.522182</td>\n",
       "      <td>0.752726</td>\n",
       "      <td>6</td>\n",
       "    </tr>\n",
       "  </tbody>\n",
       "</table>\n",
       "</div>"
      ],
      "text/plain": [
       "   mean_fit_time  std_fit_time  mean_score_time  std_score_time  \\\n",
       "0       0.299047      0.053935         0.004084        0.002182   \n",
       "1       0.338882      0.059776         0.003009        0.000708   \n",
       "2       0.383393      0.035819         0.003076        0.001105   \n",
       "3       0.435785      0.023730         0.004020        0.001519   \n",
       "4       0.595062      0.093330         0.003425        0.000522   \n",
       "\n",
       "  param_max_depth param_max_features param_n_estimators  \\\n",
       "0            None                 90                 20   \n",
       "1            None                 90                 25   \n",
       "2            None                 90                 30   \n",
       "3            None                 90                 35   \n",
       "4            None                 90                 40   \n",
       "\n",
       "                                              params  split0_test_score  \\\n",
       "0  {'max_depth': None, 'max_features': 90, 'n_est...          -2.665991   \n",
       "1  {'max_depth': None, 'max_features': 90, 'n_est...          -2.872991   \n",
       "2  {'max_depth': None, 'max_features': 90, 'n_est...          -2.441187   \n",
       "3  {'max_depth': None, 'max_features': 90, 'n_est...          -2.866174   \n",
       "4  {'max_depth': None, 'max_features': 90, 'n_est...          -2.307152   \n",
       "\n",
       "   split1_test_score  split2_test_score  split3_test_score  mean_test_score  \\\n",
       "0          -3.812276          -1.698896          -2.712255        -2.722354   \n",
       "1          -3.917718          -2.258514          -2.839066        -2.972072   \n",
       "2          -3.737841          -1.875580          -2.798341        -2.713237   \n",
       "3          -4.080906          -2.071176          -2.597408        -2.903916   \n",
       "4          -3.697606          -1.607618          -2.476354        -2.522182   \n",
       "\n",
       "   std_test_score  rank_test_score  \n",
       "0        0.748110              153  \n",
       "1        0.598105              363  \n",
       "2        0.676893              136  \n",
       "3        0.737247              341  \n",
       "4        0.752726                6  "
      ]
     },
     "execution_count": 18,
     "metadata": {},
     "output_type": "execute_result"
    }
   ],
   "source": [
    "dt_grid = pd.DataFrame(grid.cv_results_)\n",
    "dt_grid.head()"
   ]
  },
  {
   "cell_type": "markdown",
   "metadata": {},
   "source": [
    "# **RF: Conclusión**"
   ]
  },
  {
   "cell_type": "markdown",
   "metadata": {},
   "source": [
    "Con el último modelo de cross-validation, se puede ver que haciendo validación cruzada reduce el error, manteniendo la media de resultado."
   ]
  },
  {
   "cell_type": "code",
   "execution_count": 19,
   "metadata": {},
   "outputs": [
    {
     "name": "stdout",
     "output_type": "stream",
     "text": [
      "El mejor modelo Random Forest sacado del GridSearch (CV=4) ha obtenido una media de resultado de 0.9432\n",
      "Como errores:\n",
      "\tRMSE\t= 2.232644703120127\n",
      "\tMAE\t= 1.6926666666666639\n"
     ]
    }
   ],
   "source": [
    "# Se coge el mejor modelo obtenido en el GridSearchCV\n",
    "best_RF = grid.best_estimator_\n",
    "\n",
    "accuracy_train_grid = best_RF.score(X_test, Y_test)  # Se obtiene el resultado de aciertos\n",
    "print('El mejor modelo Random Forest sacado del GridSearch (CV=4) ha obtenido una media de resultado de {:.4f}'.format(accuracy_train_grid))\n",
    "# Se miran sus errores\n",
    "prediction = best_RF.predict(X_test)\n",
    "error_rmse_grid = sqrt(mean_squared_error(Y_test, prediction))\n",
    "error_mae_grid = mean_absolute_error(Y_test, prediction)\n",
    "print('Como errores:\\n\\tRMSE\\t= {}\\n\\tMAE\\t= {}'.format(error_rmse_grid, error_mae_grid))\n",
    "\n",
    "model_results['RF'] = [accuracy_train_grid, error_rmse_grid, error_mae_grid]"
   ]
  },
  {
   "cell_type": "code",
   "execution_count": 20,
   "metadata": {},
   "outputs": [
    {
     "name": "stdout",
     "output_type": "stream",
     "text": [
      "El modelo de random forest con escalado MinMax ha obtenido una media de resultado de 0.9456\n",
      "Como errores:\n",
      "\tRMSE\t= 2.185283276831631\n",
      "\tMAE\t= 1.7555185185185171\n",
      "\n",
      "El modelo random forest final ha obtenido una media de resultado de 0.9432\n",
      "Como errores:\n",
      "\tRMSE\t= 2.232644703120127\n",
      "\tMAE\t= 1.6926666666666639\n"
     ]
    }
   ],
   "source": [
    "print('El modelo de random forest con escalado MinMax ha obtenido una media de resultado de {:.4f}'.format(accuracy_train_minmax))\n",
    "print('Como errores:\\n\\tRMSE\\t= {}\\n\\tMAE\\t= {}'.format(error_rmse_minmax, error_mae_minmax))\n",
    "\n",
    "print('')\n",
    "\n",
    "print('El modelo random forest final ha obtenido una media de resultado de {:.4f}'.format(model_results['RF'][0]))\n",
    "print('Como errores:\\n\\tRMSE\\t= {}\\n\\tMAE\\t= {}'.format(model_results['RF'][1], model_results['RF'][2]))"
   ]
  },
  {
   "cell_type": "code",
   "execution_count": 21,
   "metadata": {},
   "outputs": [],
   "source": [
    "with open('../data/models/RF_minmax.pkl', 'wb') as f:\n",
    "    pickle.dump(RF_minmax, f)\n",
    "\n",
    "with open('../data/models/best_RF.pkl', 'wb') as f:\n",
    "    pickle.dump(best_RF, f)"
   ]
  }
 ],
 "metadata": {
  "kernelspec": {
   "display_name": "Python 3",
   "language": "python",
   "name": "python3"
  },
  "language_info": {
   "codemirror_mode": {
    "name": "ipython",
    "version": 3
   },
   "file_extension": ".py",
   "mimetype": "text/x-python",
   "name": "python",
   "nbconvert_exporter": "python",
   "pygments_lexer": "ipython3",
   "version": "3.10.11"
  }
 },
 "nbformat": 4,
 "nbformat_minor": 2
}
